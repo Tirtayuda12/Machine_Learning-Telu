{
 "cells": [
  {
   "cell_type": "markdown",
   "id": "58504a05",
   "metadata": {
    "papermill": {
     "duration": 0.007331,
     "end_time": "2024-03-06T14:48:08.787023",
     "exception": false,
     "start_time": "2024-03-06T14:48:08.779692",
     "status": "completed"
    },
    "tags": []
   },
   "source": [
    "**This notebook is an exercise in the [Introduction to Machine Learning](https://www.kaggle.com/learn/intro-to-machine-learning) course.  You can reference the tutorial at [this link](https://www.kaggle.com/dansbecker/your-first-machine-learning-model).**\n",
    "\n",
    "---\n"
   ]
  },
  {
   "cell_type": "markdown",
   "id": "c3cc1a5f",
   "metadata": {
    "papermill": {
     "duration": 0.006579,
     "end_time": "2024-03-06T14:48:08.800685",
     "exception": false,
     "start_time": "2024-03-06T14:48:08.794106",
     "status": "completed"
    },
    "tags": []
   },
   "source": [
    "## Recap\n",
    "So far, you have loaded your data and reviewed it with the following code. Run this cell to set up your coding environment where the previous step left off."
   ]
  },
  {
   "cell_type": "code",
   "execution_count": 1,
   "id": "9b827ab3",
   "metadata": {
    "execution": {
     "iopub.execute_input": "2024-03-06T14:48:08.816899Z",
     "iopub.status.busy": "2024-03-06T14:48:08.816239Z",
     "iopub.status.idle": "2024-03-06T14:48:11.569722Z",
     "shell.execute_reply": "2024-03-06T14:48:11.568603Z"
    },
    "papermill": {
     "duration": 2.764785,
     "end_time": "2024-03-06T14:48:11.572341",
     "exception": false,
     "start_time": "2024-03-06T14:48:08.807556",
     "status": "completed"
    },
    "tags": []
   },
   "outputs": [
    {
     "name": "stdout",
     "output_type": "stream",
     "text": [
      "Setup Complete\n"
     ]
    }
   ],
   "source": [
    "# Code you have previously used to load data\n",
    "import pandas as pd\n",
    "\n",
    "# Path of the file to read\n",
    "iowa_file_path = '../input/home-data-for-ml-course/train.csv'\n",
    "\n",
    "home_data = pd.read_csv(iowa_file_path)\n",
    "\n",
    "# Set up code checking\n",
    "from learntools.core import binder\n",
    "binder.bind(globals())\n",
    "from learntools.machine_learning.ex3 import *\n",
    "\n",
    "print(\"Setup Complete\")"
   ]
  },
  {
   "cell_type": "markdown",
   "id": "3daa7701",
   "metadata": {
    "papermill": {
     "duration": 0.00667,
     "end_time": "2024-03-06T14:48:11.585927",
     "exception": false,
     "start_time": "2024-03-06T14:48:11.579257",
     "status": "completed"
    },
    "tags": []
   },
   "source": [
    "# Exercises\n",
    "\n",
    "## Step 1: Specify Prediction Target\n",
    "Select the target variable, which corresponds to the sales price. Save this to a new variable called `y`. You'll need to print a list of the columns to find the name of the column you need.\n"
   ]
  },
  {
   "cell_type": "code",
   "execution_count": 2,
   "id": "b18915fd",
   "metadata": {
    "execution": {
     "iopub.execute_input": "2024-03-06T14:48:11.601550Z",
     "iopub.status.busy": "2024-03-06T14:48:11.600852Z",
     "iopub.status.idle": "2024-03-06T14:48:11.606657Z",
     "shell.execute_reply": "2024-03-06T14:48:11.605585Z"
    },
    "papermill": {
     "duration": 0.016732,
     "end_time": "2024-03-06T14:48:11.609259",
     "exception": false,
     "start_time": "2024-03-06T14:48:11.592527",
     "status": "completed"
    },
    "tags": []
   },
   "outputs": [
    {
     "name": "stdout",
     "output_type": "stream",
     "text": [
      "Index(['Id', 'MSSubClass', 'MSZoning', 'LotFrontage', 'LotArea', 'Street',\n",
      "       'Alley', 'LotShape', 'LandContour', 'Utilities', 'LotConfig',\n",
      "       'LandSlope', 'Neighborhood', 'Condition1', 'Condition2', 'BldgType',\n",
      "       'HouseStyle', 'OverallQual', 'OverallCond', 'YearBuilt', 'YearRemodAdd',\n",
      "       'RoofStyle', 'RoofMatl', 'Exterior1st', 'Exterior2nd', 'MasVnrType',\n",
      "       'MasVnrArea', 'ExterQual', 'ExterCond', 'Foundation', 'BsmtQual',\n",
      "       'BsmtCond', 'BsmtExposure', 'BsmtFinType1', 'BsmtFinSF1',\n",
      "       'BsmtFinType2', 'BsmtFinSF2', 'BsmtUnfSF', 'TotalBsmtSF', 'Heating',\n",
      "       'HeatingQC', 'CentralAir', 'Electrical', '1stFlrSF', '2ndFlrSF',\n",
      "       'LowQualFinSF', 'GrLivArea', 'BsmtFullBath', 'BsmtHalfBath', 'FullBath',\n",
      "       'HalfBath', 'BedroomAbvGr', 'KitchenAbvGr', 'KitchenQual',\n",
      "       'TotRmsAbvGrd', 'Functional', 'Fireplaces', 'FireplaceQu', 'GarageType',\n",
      "       'GarageYrBlt', 'GarageFinish', 'GarageCars', 'GarageArea', 'GarageQual',\n",
      "       'GarageCond', 'PavedDrive', 'WoodDeckSF', 'OpenPorchSF',\n",
      "       'EnclosedPorch', '3SsnPorch', 'ScreenPorch', 'PoolArea', 'PoolQC',\n",
      "       'Fence', 'MiscFeature', 'MiscVal', 'MoSold', 'YrSold', 'SaleType',\n",
      "       'SaleCondition', 'SalePrice'],\n",
      "      dtype='object')\n"
     ]
    }
   ],
   "source": [
    "# print the list of columns in the dataset to find the name of the prediction target\n",
    "print(home_data.columns)"
   ]
  },
  {
   "cell_type": "code",
   "execution_count": 3,
   "id": "e08974a1",
   "metadata": {
    "execution": {
     "iopub.execute_input": "2024-03-06T14:48:11.625313Z",
     "iopub.status.busy": "2024-03-06T14:48:11.624604Z",
     "iopub.status.idle": "2024-03-06T14:48:11.640011Z",
     "shell.execute_reply": "2024-03-06T14:48:11.638962Z"
    },
    "papermill": {
     "duration": 0.025769,
     "end_time": "2024-03-06T14:48:11.642092",
     "exception": false,
     "start_time": "2024-03-06T14:48:11.616323",
     "status": "completed"
    },
    "tags": []
   },
   "outputs": [
    {
     "data": {
      "application/javascript": [
       "parent.postMessage({\"jupyterEvent\": \"custom.exercise_interaction\", \"data\": {\"outcomeType\": 1, \"valueTowardsCompletion\": 0.25, \"interactionType\": 1, \"questionType\": 2, \"questionId\": \"1_SetTarget\", \"learnToolsVersion\": \"0.3.4\", \"failureMessage\": \"\", \"exceptionClass\": \"\", \"trace\": \"\"}}, \"*\")"
      ],
      "text/plain": [
       "<IPython.core.display.Javascript object>"
      ]
     },
     "metadata": {},
     "output_type": "display_data"
    },
    {
     "data": {
      "text/markdown": [
       "<span style=\"color:#33cc33\">Correct</span>"
      ],
      "text/plain": [
       "Correct"
      ]
     },
     "metadata": {},
     "output_type": "display_data"
    }
   ],
   "source": [
    "y = home_data[\"SalePrice\"]\n",
    "\n",
    "# Check your answer\n",
    "step_1.check()"
   ]
  },
  {
   "cell_type": "code",
   "execution_count": 4,
   "id": "a06cb51c",
   "metadata": {
    "execution": {
     "iopub.execute_input": "2024-03-06T14:48:11.658962Z",
     "iopub.status.busy": "2024-03-06T14:48:11.658504Z",
     "iopub.status.idle": "2024-03-06T14:48:11.662961Z",
     "shell.execute_reply": "2024-03-06T14:48:11.661861Z"
    },
    "papermill": {
     "duration": 0.01577,
     "end_time": "2024-03-06T14:48:11.665186",
     "exception": false,
     "start_time": "2024-03-06T14:48:11.649416",
     "status": "completed"
    },
    "tags": []
   },
   "outputs": [],
   "source": [
    "# The lines below will show you a hint or the solution.\n",
    "# step_1.hint() \n",
    "# step_1.solution()"
   ]
  },
  {
   "cell_type": "markdown",
   "id": "e247c30d",
   "metadata": {
    "papermill": {
     "duration": 0.00703,
     "end_time": "2024-03-06T14:48:11.679499",
     "exception": false,
     "start_time": "2024-03-06T14:48:11.672469",
     "status": "completed"
    },
    "tags": []
   },
   "source": [
    "## Step 2: Create X\n",
    "Now you will create a DataFrame called `X` holding the predictive features.\n",
    "\n",
    "Since you want only some columns from the original data, you'll first create a list with the names of the columns you want in `X`.\n",
    "\n",
    "You'll use just the following columns in the list (you can copy and paste the whole list to save some typing, though you'll still need to add quotes):\n",
    "  * LotArea\n",
    "  * YearBuilt\n",
    "  * 1stFlrSF\n",
    "  * 2ndFlrSF\n",
    "  * FullBath\n",
    "  * BedroomAbvGr\n",
    "  * TotRmsAbvGrd\n",
    "\n",
    "After you've created that list of features, use it to create the DataFrame that you'll use to fit the model."
   ]
  },
  {
   "cell_type": "code",
   "execution_count": 5,
   "id": "93bd5501",
   "metadata": {
    "execution": {
     "iopub.execute_input": "2024-03-06T14:48:11.696393Z",
     "iopub.status.busy": "2024-03-06T14:48:11.695512Z",
     "iopub.status.idle": "2024-03-06T14:48:11.714018Z",
     "shell.execute_reply": "2024-03-06T14:48:11.712586Z"
    },
    "papermill": {
     "duration": 0.029555,
     "end_time": "2024-03-06T14:48:11.716410",
     "exception": false,
     "start_time": "2024-03-06T14:48:11.686855",
     "status": "completed"
    },
    "tags": []
   },
   "outputs": [
    {
     "data": {
      "application/javascript": [
       "parent.postMessage({\"jupyterEvent\": \"custom.exercise_interaction\", \"data\": {\"outcomeType\": 1, \"valueTowardsCompletion\": 0.25, \"interactionType\": 1, \"questionType\": 2, \"questionId\": \"2_SelectPredictionData\", \"learnToolsVersion\": \"0.3.4\", \"failureMessage\": \"\", \"exceptionClass\": \"\", \"trace\": \"\"}}, \"*\")"
      ],
      "text/plain": [
       "<IPython.core.display.Javascript object>"
      ]
     },
     "metadata": {},
     "output_type": "display_data"
    },
    {
     "data": {
      "text/markdown": [
       "<span style=\"color:#33cc33\">Correct</span>"
      ],
      "text/plain": [
       "Correct"
      ]
     },
     "metadata": {},
     "output_type": "display_data"
    }
   ],
   "source": [
    "# Create the list of features below\n",
    "feature_names = ['LotArea','YearBuilt','1stFlrSF','2ndFlrSF','FullBath','BedroomAbvGr','TotRmsAbvGrd']\n",
    "\n",
    "# Select data corresponding to features in feature_names\n",
    "X = home_data[feature_names]\n",
    "\n",
    "# Check your answer\n",
    "step_2.check()"
   ]
  },
  {
   "cell_type": "code",
   "execution_count": 6,
   "id": "26641943",
   "metadata": {
    "execution": {
     "iopub.execute_input": "2024-03-06T14:48:11.734452Z",
     "iopub.status.busy": "2024-03-06T14:48:11.734037Z",
     "iopub.status.idle": "2024-03-06T14:48:11.738764Z",
     "shell.execute_reply": "2024-03-06T14:48:11.737712Z"
    },
    "papermill": {
     "duration": 0.01702,
     "end_time": "2024-03-06T14:48:11.741167",
     "exception": false,
     "start_time": "2024-03-06T14:48:11.724147",
     "status": "completed"
    },
    "tags": []
   },
   "outputs": [],
   "source": [
    "# step_2.hint()\n",
    "# step_2.solution()"
   ]
  },
  {
   "cell_type": "markdown",
   "id": "3b1c967d",
   "metadata": {
    "papermill": {
     "duration": 0.007451,
     "end_time": "2024-03-06T14:48:11.756562",
     "exception": false,
     "start_time": "2024-03-06T14:48:11.749111",
     "status": "completed"
    },
    "tags": []
   },
   "source": [
    "## Review Data\n",
    "Before building a model, take a quick look at **X** to verify it looks sensible"
   ]
  },
  {
   "cell_type": "code",
   "execution_count": 7,
   "id": "72d5db77",
   "metadata": {
    "execution": {
     "iopub.execute_input": "2024-03-06T14:48:11.774609Z",
     "iopub.status.busy": "2024-03-06T14:48:11.774208Z",
     "iopub.status.idle": "2024-03-06T14:48:11.868934Z",
     "shell.execute_reply": "2024-03-06T14:48:11.867820Z"
    },
    "papermill": {
     "duration": 0.106502,
     "end_time": "2024-03-06T14:48:11.871651",
     "exception": false,
     "start_time": "2024-03-06T14:48:11.765149",
     "status": "completed"
    },
    "tags": []
   },
   "outputs": [
    {
     "name": "stdout",
     "output_type": "stream",
     "text": [
      "      LotArea  YearBuilt  1stFlrSF  2ndFlrSF  FullBath  BedroomAbvGr  \\\n",
      "0        8450       2003       856       854         2             3   \n",
      "1        9600       1976      1262         0         2             3   \n",
      "2       11250       2001       920       866         2             3   \n",
      "3        9550       1915       961       756         1             3   \n",
      "4       14260       2000      1145      1053         2             4   \n",
      "...       ...        ...       ...       ...       ...           ...   \n",
      "1455     7917       1999       953       694         2             3   \n",
      "1456    13175       1978      2073         0         2             3   \n",
      "1457     9042       1941      1188      1152         2             4   \n",
      "1458     9717       1950      1078         0         1             2   \n",
      "1459     9937       1965      1256         0         1             3   \n",
      "\n",
      "      TotRmsAbvGrd  \n",
      "0                8  \n",
      "1                6  \n",
      "2                6  \n",
      "3                7  \n",
      "4                9  \n",
      "...            ...  \n",
      "1455             7  \n",
      "1456             7  \n",
      "1457             9  \n",
      "1458             5  \n",
      "1459             6  \n",
      "\n",
      "[1460 rows x 7 columns]\n"
     ]
    }
   ],
   "source": [
    "# Review data\n",
    "# print description or statistics from X\n",
    "#print(_)\n",
    "print(X)\n",
    "\n",
    "# print the top few lines\n",
    "#print(_)"
   ]
  },
  {
   "cell_type": "markdown",
   "id": "10ab21e5",
   "metadata": {
    "papermill": {
     "duration": 0.007575,
     "end_time": "2024-03-06T14:48:11.887130",
     "exception": false,
     "start_time": "2024-03-06T14:48:11.879555",
     "status": "completed"
    },
    "tags": []
   },
   "source": [
    "## Step 3: Specify and Fit Model\n",
    "Create a `DecisionTreeRegressor` and save it iowa_model. Ensure you've done the relevant import from sklearn to run this command.\n",
    "\n",
    "Then fit the model you just created using the data in `X` and `y` that you saved above."
   ]
  },
  {
   "cell_type": "code",
   "execution_count": 8,
   "id": "0dce7b29",
   "metadata": {
    "execution": {
     "iopub.execute_input": "2024-03-06T14:48:11.905309Z",
     "iopub.status.busy": "2024-03-06T14:48:11.904915Z",
     "iopub.status.idle": "2024-03-06T14:48:11.927220Z",
     "shell.execute_reply": "2024-03-06T14:48:11.926068Z"
    },
    "papermill": {
     "duration": 0.034561,
     "end_time": "2024-03-06T14:48:11.929506",
     "exception": false,
     "start_time": "2024-03-06T14:48:11.894945",
     "status": "completed"
    },
    "tags": []
   },
   "outputs": [
    {
     "data": {
      "application/javascript": [
       "parent.postMessage({\"jupyterEvent\": \"custom.exercise_interaction\", \"data\": {\"outcomeType\": 1, \"valueTowardsCompletion\": 0.25, \"interactionType\": 1, \"questionType\": 2, \"questionId\": \"3_CreateModel\", \"learnToolsVersion\": \"0.3.4\", \"failureMessage\": \"\", \"exceptionClass\": \"\", \"trace\": \"\"}}, \"*\")"
      ],
      "text/plain": [
       "<IPython.core.display.Javascript object>"
      ]
     },
     "metadata": {},
     "output_type": "display_data"
    },
    {
     "data": {
      "text/markdown": [
       "<span style=\"color:#33cc33\">Correct</span>"
      ],
      "text/plain": [
       "Correct"
      ]
     },
     "metadata": {},
     "output_type": "display_data"
    }
   ],
   "source": [
    "# from _ import _\n",
    "#specify the model. \n",
    "#For model reproducibility, set a numeric value for random_state when specifying the model\n",
    "from sklearn.tree import DecisionTreeRegressor\n",
    "iowa_model = DecisionTreeRegressor(random_state=1)\n",
    "\n",
    "# Fit the model\n",
    "iowa_model.fit(X,y)\n",
    "\n",
    "# Check your answer\n",
    "step_3.check()"
   ]
  },
  {
   "cell_type": "code",
   "execution_count": 9,
   "id": "d73941d1",
   "metadata": {
    "execution": {
     "iopub.execute_input": "2024-03-06T14:48:11.947229Z",
     "iopub.status.busy": "2024-03-06T14:48:11.946783Z",
     "iopub.status.idle": "2024-03-06T14:48:11.951608Z",
     "shell.execute_reply": "2024-03-06T14:48:11.950543Z"
    },
    "papermill": {
     "duration": 0.016343,
     "end_time": "2024-03-06T14:48:11.953915",
     "exception": false,
     "start_time": "2024-03-06T14:48:11.937572",
     "status": "completed"
    },
    "tags": []
   },
   "outputs": [],
   "source": [
    "# step_3.hint()\n",
    "# step_3.solution()"
   ]
  },
  {
   "cell_type": "markdown",
   "id": "ffbd7bed",
   "metadata": {
    "papermill": {
     "duration": 0.008324,
     "end_time": "2024-03-06T14:48:11.970736",
     "exception": false,
     "start_time": "2024-03-06T14:48:11.962412",
     "status": "completed"
    },
    "tags": []
   },
   "source": [
    "## Step 4: Make Predictions\n",
    "Make predictions with the model's `predict` command using `X` as the data. Save the results to a variable called `predictions`."
   ]
  },
  {
   "cell_type": "code",
   "execution_count": 10,
   "id": "52167405",
   "metadata": {
    "execution": {
     "iopub.execute_input": "2024-03-06T14:48:11.989368Z",
     "iopub.status.busy": "2024-03-06T14:48:11.988957Z",
     "iopub.status.idle": "2024-03-06T14:48:12.003792Z",
     "shell.execute_reply": "2024-03-06T14:48:12.002673Z"
    },
    "papermill": {
     "duration": 0.026724,
     "end_time": "2024-03-06T14:48:12.006031",
     "exception": false,
     "start_time": "2024-03-06T14:48:11.979307",
     "status": "completed"
    },
    "tags": []
   },
   "outputs": [
    {
     "name": "stdout",
     "output_type": "stream",
     "text": [
      "[208500. 181500. 223500. ... 266500. 142125. 147500.]\n"
     ]
    },
    {
     "data": {
      "application/javascript": [
       "parent.postMessage({\"jupyterEvent\": \"custom.exercise_interaction\", \"data\": {\"outcomeType\": 1, \"valueTowardsCompletion\": 0.25, \"interactionType\": 1, \"questionType\": 2, \"questionId\": \"4_MakePredictions\", \"learnToolsVersion\": \"0.3.4\", \"failureMessage\": \"\", \"exceptionClass\": \"\", \"trace\": \"\"}}, \"*\")"
      ],
      "text/plain": [
       "<IPython.core.display.Javascript object>"
      ]
     },
     "metadata": {},
     "output_type": "display_data"
    },
    {
     "data": {
      "text/markdown": [
       "<span style=\"color:#33cc33\">Correct</span>"
      ],
      "text/plain": [
       "Correct"
      ]
     },
     "metadata": {},
     "output_type": "display_data"
    }
   ],
   "source": [
    "predictions = iowa_model.predict(X)\n",
    "print(predictions)\n",
    "\n",
    "# Check your answer\n",
    "step_4.check()"
   ]
  },
  {
   "cell_type": "code",
   "execution_count": 11,
   "id": "7530d29e",
   "metadata": {
    "collapsed": true,
    "execution": {
     "iopub.execute_input": "2024-03-06T14:48:12.025987Z",
     "iopub.status.busy": "2024-03-06T14:48:12.025542Z",
     "iopub.status.idle": "2024-03-06T14:48:12.029640Z",
     "shell.execute_reply": "2024-03-06T14:48:12.028552Z"
    },
    "jupyter": {
     "outputs_hidden": true
    },
    "papermill": {
     "duration": 0.017068,
     "end_time": "2024-03-06T14:48:12.031779",
     "exception": false,
     "start_time": "2024-03-06T14:48:12.014711",
     "status": "completed"
    },
    "tags": []
   },
   "outputs": [],
   "source": [
    "# step_4.hint()\n",
    "# step_4.solution()"
   ]
  },
  {
   "cell_type": "markdown",
   "id": "c969520d",
   "metadata": {
    "papermill": {
     "duration": 0.008897,
     "end_time": "2024-03-06T14:48:12.049391",
     "exception": false,
     "start_time": "2024-03-06T14:48:12.040494",
     "status": "completed"
    },
    "tags": []
   },
   "source": [
    "## Think About Your Results\n",
    "\n",
    "Use the `head` method to compare the top few predictions to the actual home values (in `y`) for those same homes. Anything surprising?\n"
   ]
  },
  {
   "cell_type": "code",
   "execution_count": 12,
   "id": "45dfc984",
   "metadata": {
    "execution": {
     "iopub.execute_input": "2024-03-06T14:48:12.068736Z",
     "iopub.status.busy": "2024-03-06T14:48:12.068349Z",
     "iopub.status.idle": "2024-03-06T14:48:12.072943Z",
     "shell.execute_reply": "2024-03-06T14:48:12.071779Z"
    },
    "papermill": {
     "duration": 0.017156,
     "end_time": "2024-03-06T14:48:12.075281",
     "exception": false,
     "start_time": "2024-03-06T14:48:12.058125",
     "status": "completed"
    },
    "tags": []
   },
   "outputs": [],
   "source": [
    "# You can write code in this cell\n"
   ]
  },
  {
   "cell_type": "markdown",
   "id": "cd2daeed",
   "metadata": {
    "papermill": {
     "duration": 0.008692,
     "end_time": "2024-03-06T14:48:12.092985",
     "exception": false,
     "start_time": "2024-03-06T14:48:12.084293",
     "status": "completed"
    },
    "tags": []
   },
   "source": [
    "It's natural to ask how accurate the model's predictions will be and how you can improve that. That will be you're next step.\n",
    "\n",
    "# Keep Going\n",
    "\n",
    "You are ready for **[Model Validation](https://www.kaggle.com/dansbecker/model-validation).**\n"
   ]
  },
  {
   "cell_type": "markdown",
   "id": "e4c9b22a",
   "metadata": {
    "papermill": {
     "duration": 0.008375,
     "end_time": "2024-03-06T14:48:12.110280",
     "exception": false,
     "start_time": "2024-03-06T14:48:12.101905",
     "status": "completed"
    },
    "tags": []
   },
   "source": [
    "---\n",
    "\n",
    "\n",
    "\n",
    "\n",
    "*Have questions or comments? Visit the [course discussion forum](https://www.kaggle.com/learn/intro-to-machine-learning/discussion) to chat with other learners.*"
   ]
  }
 ],
 "metadata": {
  "kaggle": {
   "accelerator": "none",
   "dataSources": [
    {
     "databundleVersionId": 111096,
     "sourceId": 10211,
     "sourceType": "competition"
    },
    {
     "datasetId": 11167,
     "sourceId": 15520,
     "sourceType": "datasetVersion"
    },
    {
     "datasetId": 2709,
     "sourceId": 38454,
     "sourceType": "datasetVersion"
    }
   ],
   "isGpuEnabled": false,
   "isInternetEnabled": false,
   "language": "python",
   "sourceType": "notebook"
  },
  "kernelspec": {
   "display_name": "Python 3",
   "language": "python",
   "name": "python3"
  },
  "language_info": {
   "codemirror_mode": {
    "name": "ipython",
    "version": 3
   },
   "file_extension": ".py",
   "mimetype": "text/x-python",
   "name": "python",
   "nbconvert_exporter": "python",
   "pygments_lexer": "ipython3",
   "version": "3.10.13"
  },
  "papermill": {
   "default_parameters": {},
   "duration": 7.167827,
   "end_time": "2024-03-06T14:48:12.740094",
   "environment_variables": {},
   "exception": null,
   "input_path": "__notebook__.ipynb",
   "output_path": "__notebook__.ipynb",
   "parameters": {},
   "start_time": "2024-03-06T14:48:05.572267",
   "version": "2.5.0"
  }
 },
 "nbformat": 4,
 "nbformat_minor": 5
}
